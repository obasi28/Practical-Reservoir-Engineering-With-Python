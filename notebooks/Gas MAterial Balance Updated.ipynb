{
 "cells": [
  {
   "cell_type": "markdown",
   "metadata": {},
   "source": [
    "# Reservoir Material Balance Analysis Using Python and Tkinter GUI\n",
    "## **Introduction**\n",
    "This notebook provides a comprehensive implementation of a Reservoir Material Balance analysis tool.\n",
    "The tool uses the p/Z method to estimate the Original Gas in Place (OGIP) based on production data.\n",
    "it includes a fully interactive Tkinter GUI for loading data, selecting columns, previewing data,\n",
    "performing regression analysis, visualizing results, and exporting reports."
   ]
  },
  {
   "cell_type": "markdown",
   "metadata": {},
   "source": [
    "## **Reservoir Engineering Concepts Covered**\n",
    "1. **Material Balance Equation (MBE)**: A fundamental equation for reservoir depletion analysis.\n",
    "2. **p/Z Plot**: Used to estimate OGIP by plotting pseudo-reduced pressure (p/Z) against cumulative production.\n",
    "3. **Regression Analysis**: Applying linear regression to estimate OGIP from historical production data.\n",
    "4. **Reservoir Properties**: Understanding pressure, Z-factor, and cumulative production impact on depletion."
   ]
  },
  {
   "cell_type": "markdown",
   "metadata": {},
   "source": [
    "## **Python Libraries Used**\n",
    "- **Tkinter**: GUI development for interactive user input.\n",
    " - **Pandas**: Data handling and processing.\n",
    " - **NumPy**: Mathematical operations.\n",
    "- **Matplotlib**: Data visualization.\n",
    "- **SciPy**: Statistical regression for estimating OGIP."
   ]
  },
  {
   "cell_type": "code",
   "execution_count": 11,
   "metadata": {},
   "outputs": [],
   "source": [
    "import tkinter as tk\n",
    "from tkinter import messagebox, filedialog\n",
    "import pandas as pd\n",
    "import numpy as np\n",
    "import matplotlib.pyplot as plt\n",
    "from matplotlib.backends.backend_tkagg import FigureCanvasTkAgg\n",
    "from scipy.optimize import curve_fit\n",
    "\n",
    "# **Global variables**\n",
    "production_data = None\n",
    "reg_canvas = None\n",
    "estimated_ogip_scf = None\n",
    "slope = None\n",
    "r_squared = None\n"
   ]
  },
  {
   "cell_type": "markdown",
   "metadata": {},
   "source": [
    "## **Load Production Data from CSV**"
   ]
  },
  {
   "cell_type": "code",
   "execution_count": 12,
   "metadata": {},
   "outputs": [],
   "source": [
    "def load_production_data():\n",
    "    \"\"\"Opens a file dialog to load production data from CSV.\"\"\"\n",
    "    global production_data\n",
    "    file_path = filedialog.askopenfilename(filetypes=[(\"CSV Files\", \"*.csv\")])\n",
    "    if not file_path:\n",
    "        return\n",
    "\n",
    "    try:\n",
    "        data = pd.read_csv(file_path, parse_dates=['Date'])\n",
    "        required_columns = ['Date', 'Pressure', 'Z', 'CumProduction']\n",
    "        missing_columns = [col for col in required_columns if col not in data.columns]\n",
    "        if missing_columns:\n",
    "            messagebox.showerror(\"Missing Columns\", f\"Missing columns: {', '.join(missing_columns)}\")\n",
    "            return\n",
    "        production_data = data\n",
    "        messagebox.showinfo(\"Data Loaded\", f\"Production data loaded successfully from:\\n{file_path}\")\n",
    "    except Exception as e:\n",
    "        messagebox.showerror(\"Load Error\", f\"Error loading data: {e}\")\n",
    "\n"
   ]
  },
  {
   "cell_type": "markdown",
   "metadata": {},
   "source": [
    "#### The Below function will enable you select the desired columns from your input data when you run the GUI"
   ]
  },
  {
   "cell_type": "code",
   "execution_count": 13,
   "metadata": {},
   "outputs": [],
   "source": [
    "def select_columns():\n",
    "    \"\"\"Allows manual selection of CSV columns.\"\"\"\n",
    "    global production_data\n",
    "    if production_data is None:\n",
    "        messagebox.showerror(\"No Data\", \"Please load a CSV file first.\")\n",
    "        return\n",
    "\n",
    "    column_names = list(production_data.columns)\n",
    "    column_window = tk.Toplevel(root)\n",
    "    column_window.title(\"Select Columns\")\n",
    "\n",
    "    tk.Label(column_window, text=\"Select Pressure Column:\").grid(row=0, column=0)\n",
    "    pressure_var = tk.StringVar(value=column_names[0])\n",
    "    tk.OptionMenu(column_window, pressure_var, *column_names).grid(row=0, column=1)\n",
    "\n",
    "    tk.Label(column_window, text=\"Select Z-Factor Column:\").grid(row=1, column=0)\n",
    "    z_var = tk.StringVar(value=column_names[1])\n",
    "    tk.OptionMenu(column_window, z_var, *column_names).grid(row=1, column=1)\n",
    "\n",
    "    tk.Label(column_window, text=\"Select Cumulative Production Column:\").grid(row=2, column=0)\n",
    "    production_var = tk.StringVar(value=column_names[2])\n",
    "    tk.OptionMenu(column_window, production_var, *column_names).grid(row=2, column=1)\n",
    "\n",
    "    def confirm_selection():\n",
    "        global production_data\n",
    "        production_data = production_data.rename(columns={\n",
    "            pressure_var.get(): \"Pressure\",\n",
    "            z_var.get(): \"Z\",\n",
    "            production_var.get(): \"CumProduction\"\n",
    "        })\n",
    "        column_window.destroy()\n",
    "        messagebox.showinfo(\"Columns Set\", \"Columns mapped successfully.\")\n",
    "\n",
    "    tk.Button(column_window, text=\"Confirm Selection\", command=confirm_selection).grid(row=3, columnspan=2)\n",
    "\n",
    "def preview_data():\n",
    "    \"\"\"Displays a preview of the loaded dataset.\"\"\"\n",
    "    global production_data\n",
    "    if production_data is None:\n",
    "        messagebox.showerror(\"No Data\", \"Please load a CSV file first.\")\n",
    "        return\n",
    "\n",
    "    preview_window = tk.Toplevel(root)\n",
    "    preview_window.title(\"Data Preview\")\n",
    "    preview_text = tk.Text(preview_window, height=10, width=80)\n",
    "    preview_text.pack()\n",
    "    preview_text.insert(tk.END, production_data.head().to_string(index=False))\n",
    "\n"
   ]
  },
  {
   "cell_type": "markdown",
   "metadata": {},
   "source": [
    "## **Perform p/Z Regression Analysis**"
   ]
  },
  {
   "cell_type": "code",
   "execution_count": 14,
   "metadata": {},
   "outputs": [],
   "source": [
    "def perform_regression_analysis():\n",
    "    \"\"\"Performs p/Z regression analysis to estimate OGIP.\"\"\"\n",
    "    global production_data, reg_canvas, estimated_ogip_scf, slope, r_squared\n",
    "\n",
    "    if production_data is None or production_data.empty:\n",
    "        messagebox.showerror(\"No Data\", \"Please load a CSV file first.\")\n",
    "        return\n",
    "\n",
    "    try:\n",
    "        initial_pressure = float(production_data.iloc[0]['Pressure'])\n",
    "        initial_z = float(production_data.iloc[0]['Z'])\n",
    "        production_data['x'] = (initial_pressure / initial_z) - (production_data['Pressure'] / production_data['Z'])\n",
    "        production_data['y'] = pd.to_numeric(production_data['CumProduction'], errors='coerce')\n",
    "        production_data.dropna(subset=['x', 'y'], inplace=True)\n",
    "\n",
    "        x = production_data['x'].values\n",
    "        y = production_data['y'].values\n",
    "\n",
    "        if np.sum(x**2) == 0:\n",
    "            messagebox.showerror(\"Regression Error\", \"Sum of squares of x is zero; cannot perform regression.\")\n",
    "            return\n",
    "\n",
    "        slope = np.sum(x * y) / np.sum(x**2)\n",
    "        estimated_ogip_scf = slope * initial_pressure\n",
    "        y_pred = slope * x\n",
    "        residuals = y - y_pred\n",
    "        ss_res = np.sum(residuals**2)\n",
    "        ss_tot = np.sum((y - np.mean(y))**2)\n",
    "        r_squared = 1 - ss_res / ss_tot if ss_tot != 0 else 0\n",
    "\n",
    "        messagebox.showinfo(\"Regression Results\", \n",
    "            f\"Regression Slope: {slope:,.2f} scf/psia\\n\"\n",
    "            f\"Estimated OGIP: {estimated_ogip_scf:,.2f} scf\\n\"\n",
    "            f\"R-squared: {r_squared:.4f}\")\n",
    "\n",
    "        fig, ax = plt.subplots(figsize=(6, 4))\n",
    "        ax.scatter(x, y, color='blue', label='Data Points')\n",
    "        ax.plot(x, y_pred, color='red', label=f'Regression Line (slope = {slope:,.2f} scf/psia)')\n",
    "        ax.set_xlabel(r'$(p_i/z_i - p/z)$ (psia)')\n",
    "        ax.set_ylabel('Cumulative Production (scf)')\n",
    "        ax.set_title('p/z Plot and Regression Analysis')\n",
    "        ax.legend()\n",
    "        ax.grid(True)\n",
    "\n",
    "        if reg_canvas is not None:\n",
    "            reg_canvas.get_tk_widget().destroy()\n",
    "        reg_canvas = FigureCanvasTkAgg(fig, master=root)\n",
    "        reg_canvas.draw()\n",
    "        reg_canvas.get_tk_widget().pack()\n",
    "    \n",
    "    except Exception as e:\n",
    "        messagebox.showerror(\"Calculation Error\", f\"Error in regression: {e}\")\n",
    "\n"
   ]
  },
  {
   "cell_type": "markdown",
   "metadata": {},
   "source": [
    "## Save Report in your Local Machine"
   ]
  },
  {
   "cell_type": "code",
   "execution_count": 15,
   "metadata": {},
   "outputs": [],
   "source": [
    "def save_report():\n",
    "    \"\"\"Saves regression results to an Excel file.\"\"\"\n",
    "    global estimated_ogip_scf, slope, r_squared\n",
    "\n",
    "    if estimated_ogip_scf is None:\n",
    "        messagebox.showerror(\"No Results\", \"Please perform regression first.\")\n",
    "        return\n",
    "\n",
    "    file_path = filedialog.asksaveasfilename(defaultextension=\".xlsx\", filetypes=[(\"Excel Files\", \"*.xlsx\")])\n",
    "    if not file_path:\n",
    "        return\n",
    "\n",
    "    try:\n",
    "        df = pd.DataFrame({\n",
    "            \"Parameter\": [\"Regression Slope (scf/psia)\", \"Estimated OGIP (scf)\", \"R-Squared\"],\n",
    "            \"Value\": [f\"{slope:,.2f}\", f\"{estimated_ogip_scf:,.2f}\", f\"{r_squared:.4f}\"]\n",
    "        })\n",
    "        df.to_excel(file_path, index=False)\n",
    "        messagebox.showinfo(\"Report Saved\", f\"Report saved successfully:\\n{file_path}\")\n",
    "    except Exception as e:\n",
    "        messagebox.showerror(\"Save Error\", f\"Failed to save report: {e}\")\n",
    "\n"
   ]
  },
  {
   "cell_type": "markdown",
   "metadata": {},
   "source": [
    "# **GUI Implementation**"
   ]
  },
  {
   "cell_type": "code",
   "execution_count": 16,
   "metadata": {},
   "outputs": [],
   "source": [
    "# GUI Layout\n",
    "root = tk.Tk()\n",
    "root.title(\"Emmanuel Obasi Reservoir Material Balance Analysis\")\n",
    "root.geometry(\"800x600\")\n",
    "\n",
    "frame_top = tk.Frame(root)\n",
    "frame_top.pack(pady=10)\n",
    "\n",
    "frame_middle = tk.Frame(root)\n",
    "frame_middle.pack(pady=5)\n",
    "\n",
    "frame_bottom = tk.Frame(root)\n",
    "frame_bottom.pack(pady=10)\n",
    "\n",
    "tk.Button(frame_top, text=\"Load Production Data\", command=load_production_data, width=25).pack(side=tk.LEFT, padx=10)\n",
    "tk.Button(frame_top, text=\"Preview Data\", command=preview_data, width=25).pack(side=tk.LEFT, padx=10)\n",
    "tk.Button(frame_middle, text=\"Select Columns\", command=select_columns, width=25).pack(side=tk.LEFT, padx=10)\n",
    "tk.Button(frame_middle, text=\"Perform Regression\", command=perform_regression_analysis, width=25).pack(side=tk.LEFT, padx=10)\n",
    "tk.Button(frame_bottom, text=\"Save Report\", command=save_report, width=25).pack()\n",
    "\n",
    "root.mainloop()\n"
   ]
  },
  {
   "cell_type": "markdown",
   "metadata": {},
   "source": [
    "# **Conclusion**\n",
    "This GUI-based reservoir material balance tool provides an efficient and interactive way for engineers to estimate OGIP using p/Z analysis.\n",
    "\n",
    "The use of Python and Tkinter makes it a user-friendly and accessible application for real-world engineering workflows.\n"
   ]
  }
 ],
 "metadata": {
  "kernelspec": {
   "display_name": "base",
   "language": "python",
   "name": "python3"
  },
  "language_info": {
   "codemirror_mode": {
    "name": "ipython",
    "version": 3
   },
   "file_extension": ".py",
   "mimetype": "text/x-python",
   "name": "python",
   "nbconvert_exporter": "python",
   "pygments_lexer": "ipython3",
   "version": "3.10.9"
  }
 },
 "nbformat": 4,
 "nbformat_minor": 2
}
